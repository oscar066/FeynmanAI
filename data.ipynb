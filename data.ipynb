{
 "cells": [
  {
   "cell_type": "code",
   "execution_count": null,
   "metadata": {},
   "outputs": [],
   "source": [
    "from haystack.components.writers import DocumentWriter\n",
    "from haystack.components.converters import MarkdownToDocument, PyPDFToDocument, TextFileToDocument\n",
    "from haystack.components.preprocessors import DocumentSplitter, DocumentCleaner\n",
    "from haystack.components.routers import FileTypeRouter\n",
    "from haystack.components.joiners import DocumentJoiner\n",
    "from haystack.components.embedders import SentenceTransformersDocumentEmbedder\n",
    "from haystack import Pipeline, Document\n",
    "from haystack.document_stores.in_memory import InMemoryDocumentStore"
   ]
  },
  {
   "cell_type": "markdown",
   "metadata": {},
   "source": [
    "### Document Splitter"
   ]
  },
  {
   "cell_type": "code",
   "execution_count": 34,
   "metadata": {},
   "outputs": [
    {
     "data": {
      "text/plain": [
       "{'documents': [Document(id=b2c67a306f99f2d859c1bc0811c9ba449dd7288b7d3fcbc6591141b69fb2a341, content: 'Moonlight shimmered softly, ', meta: {'source_id': 'ea61b469f16c17b46ae667f395d7997c488dc7da96f6f4f9b4ac327f9a7b1abd', 'page_number': 1}),\n",
       "  Document(id=2b6b758e8432e27ee9ec0b15506e60506557cd77206e26b335f041f0c5462bb3, content: 'wolves howled nearby, ', meta: {'source_id': 'ea61b469f16c17b46ae667f395d7997c488dc7da96f6f4f9b4ac327f9a7b1abd', 'page_number': 1}),\n",
       "  Document(id=accbb0fd14e1ea1bb237a6d55e537e18938effe0a5dcb108b3c1f54d46d57f41, content: 'night enveloped everything.', meta: {'source_id': 'ea61b469f16c17b46ae667f395d7997c488dc7da96f6f4f9b4ac327f9a7b1abd', 'page_number': 1})]}"
      ]
     },
     "execution_count": 34,
     "metadata": {},
     "output_type": "execute_result"
    }
   ],
   "source": [
    "from haystack import Document\n",
    "from haystack.components.preprocessors import DocumentSplitter\n",
    "\n",
    "doc = Document(content=\"Moonlight shimmered softly, wolves howled nearby, night enveloped everything.\")\n",
    "\n",
    "splitter = DocumentSplitter(split_by=\"word\", split_length=3, split_overlap=0)\n",
    "result = splitter.run(documents=[doc])\n",
    "result"
   ]
  },
  {
   "cell_type": "markdown",
   "metadata": {},
   "source": [
    "### Document Cleaner"
   ]
  },
  {
   "cell_type": "code",
   "execution_count": 38,
   "metadata": {},
   "outputs": [
    {
     "data": {
      "text/plain": [
       "{'documents': [Document(id=cfa6114cbbb149e353c7c91bcf156714d7a030dd8e4a87e3ea3ae5e534a27eb3, content: 'This is a document to clean\\n\\n\\n')]}"
      ]
     },
     "execution_count": 38,
     "metadata": {},
     "output_type": "execute_result"
    }
   ],
   "source": [
    "from haystack import Document\n",
    "from haystack.components.preprocessors import DocumentCleaner\n",
    "\n",
    "doc = Document(content=\"This   is  a  document  to  clean\\\\n\\\\n\\\\nsubstring to remove\")\n",
    "\n",
    "cleaner = DocumentCleaner(remove_substrings = [\"substring to remove\"])\n",
    "result = cleaner.run(documents=[doc])\n",
    "\n",
    "#assert result[\"documents\"][0].content == \"This is a document to clean \"\n",
    "result"
   ]
  },
  {
   "cell_type": "code",
   "execution_count": null,
   "metadata": {},
   "outputs": [],
   "source": []
  },
  {
   "cell_type": "markdown",
   "metadata": {},
   "source": [
    "### 1. Word Document Converter"
   ]
  },
  {
   "cell_type": "code",
   "execution_count": null,
   "metadata": {},
   "outputs": [],
   "source": [
    "#!pip install python-docx"
   ]
  },
  {
   "cell_type": "code",
   "execution_count": 8,
   "metadata": {},
   "outputs": [
    {
     "name": "stdout",
     "output_type": "stream",
     "text": [
      "Week 2: Communication and Middleware\n",
      "Lesson 3: Communication in Distributed Systems\n",
      "Communication models and protocols.\n",
      "Sockets, message-passing, and remote procedure calls (RPC).\n",
      "Lesson 4: Middleware and Message Brokers\n",
      "Introduction to middleware.\n",
      "Message queuing systems (e.g., RabbitMQ, Apache Kafka).\n",
      "\n",
      "Class Activity: Hands-on lab on socket programming.\n",
      "Group Communication in Distributed Systems\n",
      "Communication between two processes in a distributed system is required to exchange various data, such as code or a file, between the processes. When one source process tries to communicate with multiple processes at once, it is called Group Communication. A group is a collection of interconnected processes with abstraction. This abstraction is to hide the message passing so that the communication looks like a normal procedure call. Group communication also helps the processes from different hosts to work together and perform operations in a synchronized manner, therefore increasing the overall performance of the system.\n",
      "\n",
      "\n",
      "Types of Group Communication in a Distributed System:\n",
      "Broadcast Communication: When the host process tries to communicate with every process in a distributed system at the same time. Broadcast communication comes in handy when a common stream of information is to be delivered to every process in the most efficient manner possible. Since it does not require any processing whatsoever, communication is very fast in comparison to other modes of communication. However, it does not support a large number of processes and cannot treat a specific process individually.\n",
      "\n",
      "A broadcast Communication: P1 process communicating with every process in the system\n",
      "Multicast Communication: When the host process tries to communicate with a designated group of processes in a distributed system at the same time. This technique is mainly used to find a way to address the problem of a high workload on the host system and redundant information from the process in the system. Multitasking can significantly decrease the time taken for message handling.\n",
      "\n",
      "A multicast Communication: P1 process communicating with only a group of the process in the system\n",
      "\n",
      "Unicast Communication: When the host process tries to communicate with a single process in a distributed system at the same time. Although, the same information may be passed to multiple processes. This works best for two processes communicating as it has to treat a specific process only. However, it leads to overheads as it has to find the exact process and then exchange information/data.\n",
      "\n",
      "A unicast Communication: P1 process communicating with only the P3 process\n",
      "\n",
      "Role of Middleware in Distributed System\n",
      "Middleware is an intermediate layer of software that sits between the application and the network. It is used in distributed systems to provide common services, such as authentication, authorization, compilation for best performance on particular architectures, input/output translation, and error handling.\n",
      "In distributed systems, middleware is a software component that provides services between two or more applications and can be used by them. Middleware can be thought of as an application that sits between two separate applications and provides service to both. In this article, we will see the role of middleware in distributed systems.\n",
      "With all the miscommunication going around these days, enterprises need to start using software solutions that streamline communications across departments. One such product that fits this description, is known as Middleware, which allows organizations to implement their processes seamlessly by integrating all components of the enterprise. In this article, we will examine the role of middleware in distributed systems and how it can help businesses to evolve.\n",
      "\n",
      "However, there are numerous middlewares around, each having its own set of responsibilities. This can be attributed to the fact that different types of middleware are designed for different scenarios and each type has its own set of requirements and goals.\n",
      "\n",
      "Example: \n",
      "Message-oriented middleware is designed to transport messages between two or more applications and is best suited for distributed applications that require transaction-oriented messaging. It could be used to monitor network traffic flows or to monitor the health of a distributed system.\n",
      "\n",
      "Key Points:\n",
      "Distributed systems are becoming increasingly complex as they are involved in activities spanning an ecosystem of partners, suppliers, and customers. \n",
      "One way to achieve this integration is through the use of middleware. In recent years, there has been a rise in the number of middleware solutions available in the market. \n",
      "However, due to this array of choices available it has become vital for enterprises to first identify what type of solution they require before making a purchasing decision.\n",
      "\n",
      "Advantages of Middleware in Distributed Systems:\n",
      "Middleware is an intermediate layer of software that sits between the application and the network. It is used in distributed systems to provide common services, such as authentication, authorization, compilation for best performance on particular architectures, input/output translation, and error handling.\n",
      "Middleware offers several advantages to distributed systems. Middleware can be modularized from the application so it has better potential for reuse with other applications running on different platforms. \n",
      "Application developers can design Middleware so it’s sufficiently high-level that it becomes independent of specific hardware environments or operating system platforms which simplifies porting applications developed on one type of platform onto another without rewriting code or without resorting to inefficient and expensive binary compatibility toolsets such as cross-compilers.\n",
      "\n",
      "Middleware Key Challenges of Developing Distributed Systems:\n",
      "Developing distributed systems can be not just challenging but also very time-consuming, especially in building and maintaining large-scale infrastructures. This is because it requires considering the software architecture of both the client and server as well as the underlying network topology.\n",
      "Middleware technologies help developers by handling tough tasks such as cross-platform application development, network management, and security enforcement so that they are manageable by software teams.\n",
      "The developers of Middleware Technologies are focusing on designing new technologies to address both current and emerging challenges to enable their users to build scalable distributed applications quickly, easily, and cost-efficiently.\n",
      "Middleware supports a wide range of distributed applications, by providing services that span the application and network tiers. Therefore, it is more than likely that middleware will continue to evolve and be adapted for use in more application scenarios. Its role in distributed systems is expected to increase as enterprises move toward becoming globally integrated enterprises.\n",
      "\n",
      "What is a Message Broker?\n",
      "Modern computing relies on a distributed architecture in which separate software components—often in different environments—coordinate with each other. Messaging and event streaming are essential to support microservices, serverless, and other cloud-native application architectures.\n",
      "One of the programming challenges created by microservices and other distributed architectures is communication between application components. Message brokers are designed to provide a common communication mechanism that scales with application needs. In addition to messaging, message brokers typically provide services such as translation, routing, persistence, and delivery, streamlining communications while reducing the burden on software developers to handle these capabilities in application code.\n",
      "An enterprise-grade message broker helps to ensure fast reliable communication between servers, applications, and devices in multi-cloud environments, with reliable asynchronous messaging for passing events, commands, data, and responses among producing and consuming applications or services. A distributed message broker simplifies communication between microservices while providing security, automated management, and high performance.\n",
      "Distributed microservices applications communicate with each other by exchanging data in the form of messages. Message brokers can help integrate disparate applications and services across a wide variety of languages and platforms. Asynchronous messaging allows producers and consumers to send and receive messages independently and at different times without blocking.\n",
      "\n",
      "Message broker architecture\n",
      "A message broker provides the necessary plumbing to facilitate the exchange of messages (discrete, structured data). A producer or publisher sends the message, and a consumer or subscriber receives the message. A message broker accepts and if necessary, translates messages sent by a producer, then organizes and holds messages in a message queue until received by the consumer(s).\n",
      "\n",
      "\n",
      "Message Broker vs Message Queue\n",
      "Once a message is received, a message broker typically maintains the message in a message queue until a consumer/subscriber can retrieve it. Message queues are data structures that provide reliable temporary storage for messages until they are read. They store messages in the same order in which they were sent, so they can be processed in sequence. Producers and consumers can share the same queue, and messages can be routed to one or many message queues. Message queues help ensure information doesn’t get lost or destroyed due to incompatible systems, network latency, or application failure. Because the message queue is such an important component of a message broker, the designation “MQ,” (message queue) appears in the name of message brokers such as RabbitMQ and ActiveMQ.\n",
      "\n",
      "Message Broker Vs Event Streaming Platform\n",
      "While many use message broker and event streaming somewhat interchangeably, they are not the same. The confusion arises because of overlap in the use cases for the two technologies.\n",
      "A message broker stores a message in a queue until it is consumed and then deletes the message. Message brokers offer flexible routing and reliability. Event streaming platforms append events to the end of a log and don’t delete events as they are consumed. \n",
      "Streaming facilitates raw throughput. Consumers can start reading the stream at any point and see the entire history. An “event” could be the same as a message, but with streaming applications, it is often the stream of events that is of interest. Multiple events are often processed together. \n",
      "For example, a low-fidelity temperature sensor might report the temperature once per second. Rather than use the temperature reported in a single event, it may be more accurate to average the last ten temperature readings and use the average as a measure of the temperature. Similarly, a stock trading application might analyze changes in a stock price over time, processing a series of events (multiple ticks in the price) in multiple ways before taking an action or generating a notification.\n",
      "\n",
      "Message Broker vs Message Bus\n",
      "A message bus—or enterprise service bus (ESB)—is a type of middleware built on a central system that enables application-to-application communication. Primarily used in old-style Service Oriented Architecture (SOA), ESBs formalize data formats and protocols for use by multiple applications.\n",
      "SOA and ESB technologies remain in wide use but are being replaced by messaging and streaming in modern microservices applications. More and more organizations are migrating to open-source message brokers and embracing microservices architectures and cloud-native frameworks. \n",
      "\n",
      "Common Message Broker Models\n",
      "The following terms may be employed depending on the messaging model being employed:\n",
      "The producer or publisher is the message sender \n",
      "The consumer or subscriber is the message recipient \n",
      "Message queue or topic is where a message is routed to \n",
      "\n",
      "Point-to-point messaging model\n",
      "A point-to-point messaging model is used when a producer sends a single message directly (point-to-point) to a consumer. Messages could include data to be stored, a command to be carried out, or any other information that needs to be shared between the producer and the consumer.\n",
      "\n",
      "\n",
      "Publish-subscribe messaging model\n",
      "When a message producer needs to send the same message to many recipients simultaneously, then a publish-subscribe model is used. With this messaging pattern, the message broker publishes a message to a topic, where it is organized, cached, processed, and delivered to subscribers. One or many publishers can publish on the same topic, and messages are available to anyone who subscribes to that topic. Publish-subscribe provides a flexible way of communicating between multiple microservices and applications.  \n",
      "\n",
      "\n",
      "\n",
      "\n",
      "\n",
      "What to keep in mind when using a message broker\n",
      "Applications often have trouble communicating with other applications or services deployed in different environments. In an increasingly distributed environment, a message broker helps communicate and coordinate with services running on multiple platforms. The message broker you choose depends on your use case and operations. \n",
      "\n",
      "When should I implement a message broker?\n",
      "Many microservices applications use APIs to communicate directly with each other, so you might wonder why a message broker is needed. One of the main reasons to choose a message broker is scale. Once application components begin exchanging thousands of messages, the performance and resiliency of a message broker begin to justify the complexity that comes with the extra software. \n",
      "Several common use cases lend themselves to message broker use:\n",
      "Microservices: As the number of microservices that make up an application increases, a message broker can rationalize communications between services. For example, suppose a service needs to send an identical message to ten other services. Rather than make 10 API calls, with a message broker you simply send one message to the broker.\n",
      "Long-running tasks: Sometimes a message triggers a long-running task. For instance, when a video is uploaded, a message may be sent to trigger a series of tasks such as transcoding, compression, distribution, etc. These tasks may take many hours to run in the background.\n",
      "Mobile apps: Mobile devices and apps may not always be running or reachable. A message broker can ensure that messages (notifications) are available and can be received in order when the mobile device or application regains service. \n",
      "Transactions: With transactional systems, you often need to ensure that a message is only processed once and not duplicated. Because message brokers delete messages after they are consumed, they can be used to ensure this happens.\n",
      "\n",
      "\n",
      "Common message brokers\n",
      "There are many open-source and cloud-based message brokers available.\n",
      "RabbitMQ is an open-source distributed message broker that facilitates the efficient delivery of messages in complex routing scenarios. It delivers flexible routing and command and response between applications. RabbitMQ has recently added event-streaming capabilities that model a Kafka-like append-only log on top of a traditional RabbitMQ message queue. \n",
      "VMware RabbitMQ is an enterprise-grade message broker with event streaming capabilities based on open-source RabbitMQ.\n",
      "Apache ActiveMQ is an open-source message broker that facilitates communication between microservices and supports protocols across a range of languages and platforms.\n",
      "Apache Kafka describes itself as a distributed event streaming platform rather than a message broker. However, many use Kafka to satisfy message broker use cases. Kafka’s scalability enables applications to publish and subscribe to multiple message streams simultaneously. Kafka uses a distributed append-only log; messages are written to the end of a log that’s persisted to disk. \n",
      "Apache Pulsar provides cloud-native, multi-tenant, high-performance messaging and queuing for microservices and serverless functions.\n",
      "\n"
     ]
    }
   ],
   "source": [
    "from CustomDOCXToDocument import CustomDOCXToDocument\n",
    "\n",
    "converter = CustomDOCXToDocument()\n",
    "results = converter.run(sources=[\"Documents/Week2.docx\"])\n",
    "documents = results[\"documents\"]\n",
    "print(documents[0].content)\n",
    "# 'This is a text from the DOCX file.'"
   ]
  },
  {
   "cell_type": "markdown",
   "metadata": {},
   "source": [
    "### 2. PDF Document Converter"
   ]
  },
  {
   "cell_type": "code",
   "execution_count": 4,
   "metadata": {},
   "outputs": [
    {
     "name": "stdout",
     "output_type": "stream",
     "text": [
      "Nishauri 2.0 - Leveraging Retrieval -Augmented Generation for \n",
      "Digital Health  \n",
      " \n",
      "Introduction:  \n",
      "The challenge posed in the Nishauri application development revolves around integrating \n",
      "Retrieval -Augmented Generation (RAG) to create an advanced chatbot system. This \n",
      "initiative aims to harness Generative AI to enhance digital health services, ensuring accurate \n",
      "and timely information dissemination to users/patients.  \n",
      " \n",
      "Understanding of the Case Study:  \n",
      "In the realm of healthcare, ensuring the precision of information shared is of utmost \n",
      "importance. Here, the integration of Retrieval -Augmented Generation (RAG) models \n",
      "emerges as a crucial strategy, acting as a bridge between dynamic technological \n",
      "advanceme nts and the essential need for accurate healthcare information dissemination.  \n",
      " \n",
      "Definition of RAG:  \n",
      " \n",
      "RAG is a sophisticated model combining a parametric (pre -trained large language model) \n",
      "and a non -parametric model. This fusion enables dynamic information retrieval and \n",
      "generation, ensuring the dissemination of accurate information  to the users of Nishauri \n",
      "applications  \n",
      " \n",
      "Components of RAG:  \n",
      " \n",
      "1. The Parametric Model:  \n",
      "Utilizes pre -trained large language models, ensuring robustness and efficiency in \n",
      "generating responses.  \n",
      "Drawbacks and Advantages:  \n",
      "While parametric models excel in their predictive capabilities, they are constrained \n",
      "by resource -intensive fine -tuning processes. However, their advantages lie in their \n",
      "adaptability and effectiveness in generating responses.  \n",
      " \n",
      "2. The Non -parametric Model:  \n",
      "Employs a dynamic retrieval mechanism for acquiring relevant information.  \n",
      "Drawbacks and Advantages:  \n",
      "Non-parametric models offer flexibility in retrieving information but may lack the \n",
      "predictive capabilities of parametric models. However, they excel in scalability and \n",
      "adaptability.  \n",
      " \n",
      "Architecture of the Approach we intend to use  \f \n",
      " \n",
      "Overview of the approach step by step :  \n",
      " \n",
      "We combine a pre -trained retriever ( Query Encoder + Document Index ) with a pre -trained \n",
      "seq2seq model ( Generator ) and fine -tune end -to-end. For query x, we use Maximum Inner \n",
      "Product Search (MIPS) to find the top -K documents zi. For final prediction y, we treat z as a \n",
      "latent variable and marginalize over seq2seq predictions given different documents.  \n",
      " \n",
      " \n",
      "1. Combine Pre -trained Retriever and Seq2Seq Model:  \n",
      "• Integrate a pre -trained retriever, comprising a Query Encoder and Document \n",
      "Index, with a pre -trained seq2seq model, known as the Generator.  \n",
      "2. Fine -tune End -to-End:  \n",
      "• Implement end -to-end fine -tuning of the combined model to ensure \n",
      "seamless interaction between the retriever and the seq2seq model.  \n",
      "3. Query Processing with MIPS:  \n",
      "• When presented with a query (denoted as x), employ Maximum Inner \n",
      "Product Search (MIPS) to retrieve the top -K relevant documents (denoted as \n",
      "zi). \n",
      "4. Prediction Generation:  \n",
      "• Treat the retrieved documents (zi) as latent variables.  \n",
      "• Marginalize over seq2seq predictions considering the varied documents.  \n",
      "• Generate the final prediction (denoted as y) based on the marginalized \n",
      "seq2seq predictions.  \n",
      " \n",
      " \n",
      "Challenges Encountered:  \n",
      " \n",
      "1. GPU Requirement: Fine -tuning pre -trained large language models necessitates \n",
      "significant GPU resources.  \n",
      "2. Cost Implications: Utilizing state -of-the-art parametric models may incur high API \n",
      "usage costs.  \n",
      "\f3. Memory Constraints: Effective fine -tuning mandates systems with larger memory \n",
      "pools.  \n",
      " \n",
      "Solutions Implemented:  \n",
      " \n",
      "1. Google Colab Premium: Subscribing to the premium version of Google Colab \n",
      "addresses both memory and GPU constraints efficiently.  \n",
      "2. Trial Period Access: Exploring access options to pre-trained models like Vertex, albeit \n",
      "temporary, offers potential solutions, although not optimal.  \n",
      " \n",
      " \n",
      " \n"
     ]
    }
   ],
   "source": [
    "from haystack.components.converters.pypdf import PyPDFToDocument\n",
    "import datetime\n",
    "\n",
    "converter = PyPDFToDocument()\n",
    "results = converter.run(sources=[\"HealthPal.pdf\"])\n",
    "documents = results[\"documents\"]\n",
    "print(documents[0].content)\n",
    "# 'This is a text from the PDF file."
   ]
  },
  {
   "cell_type": "markdown",
   "metadata": {},
   "source": [
    "### 3. PPT Document Converter"
   ]
  },
  {
   "cell_type": "code",
   "execution_count": null,
   "metadata": {},
   "outputs": [],
   "source": [
    "#!pip install python-pptx"
   ]
  },
  {
   "cell_type": "code",
   "execution_count": 11,
   "metadata": {},
   "outputs": [
    {
     "name": "stdout",
     "output_type": "stream",
     "text": [
      "Why Do We Prototype?\n",
      "Get feedback on our design faster\n",
      "saves money\n",
      "Experiment with alternative designs\n",
      "Fix problems before code is written\n",
      "Keep the design centered on the customer\fFidelity in Prototyping\n",
      "Fidelity refers to the level of detail\n",
      "High fidelity?\n",
      "prototypes look like the final product\n",
      " Low fidelity?\n",
      "artists renditions with many details missing\fLow-fidelity Storyboards\n",
      "Where do storyboards come from?\n",
      "film & animation\n",
      "From Star War VI:\n",
      "Return of the Jedi\n",
      "Give you a “script” of important events\n",
      "leave out the details\n",
      "concentrate on the important interactions\fWhy Use Low-fi Prototypes?\n",
      "Traditional methods take too long\n",
      "sketches -> prototype -> evaluate -> iterate\n",
      "Can simulate the prototype\n",
      "sketches -> evaluate -> iterate\n",
      "sketches act as prototypes\n",
      "designer “plays computer”\n",
      "other design team members observe & record\n",
      "Kindergarten implementation skills\n",
      "allows non-programmers to participate\fHi-fi Prototypes Warp\n",
      "Perceptions of the customer/reviewer?\n",
      "formal representation indicates “finished” nature\n",
      "comments on color, fonts, and alignment\n",
      "Time?\n",
      "encourage precision\n",
      "specifying details takes more time\n",
      "Creativity?\n",
      "lose track of the big picture\fPreparing for a Test\n",
      "Select your customers\n",
      "understand background of intended customers\n",
      "use a questionnaire to get the people you\n",
      "need\n",
      "don’t use friends or family\n",
      "Prepare scenarios that are\n",
      "typical of the product during actual use\n",
      "make prototype support these (small, yet\n",
      "broad)\fConducting a Test\n",
      "Four testers (minimum)\n",
      "greeter - puts participants at ease & gets data\n",
      "facilitator - only team member who speaks\n",
      "gives instructions & encourages thoughts, opinions\n",
      "computer -knows application logic & controls it\n",
      "always simulates the response, w/o explanation\n",
      "observers - take notes & recommendations\n",
      "Typical session is 1 hour\n",
      "preparation, the test, debriefing\fAdvantages of Low-fidelity\u000bPrototyping\n",
      "Takes only a few hours\n",
      "no expensive equipment needed\n",
      "Can test multiple alternatives\n",
      "fast iterations\n",
      "number of iterations is tied to final quality\n",
      " Almost all interaction can be faked\fProblems with Low-fi Prototypes?\n",
      "compared to real computer\n",
      "End-users can’t do it themselves\n",
      "Sometimes hard for participants to recognize\n",
      "widgets\n",
      "Hard to implement interactive functionality, like\n",
      "“pulldowns”\n",
      "Won’t look like the final product\n",
      "Not in context of user’s work environment\n",
      "Doesn’t map well to what will actual fit on the\n",
      "screen\fProblems with Low-fi Prototypes?\n",
      "Couldn’t hold in your hand -- different ergonomics\n",
      "from target device\n",
      "Some things could not be simulated\n",
      "Writing on paper not the same as writing on\n",
      "target device\n",
      "Appearance unrealistic\n",
      "Dynamic widgets hard to simulate\n",
      "Some items had to be static!\fHigh Fidelity Tools\n",
      "Web\n",
      "FrontPage, Dreamweaver,…\n",
      "Screen mockups\n",
      "Illustrator, Photoshop,\n",
      "PowerPoint,….\n",
      "Clickthroughs\n",
      "Flash, PowerPoint,…\n",
      "Graphic interface builders\n",
      "Visual Basic, Visual C#, …\n",
      "Flash …\n"
     ]
    }
   ],
   "source": [
    "from CustomPPTXToDocument import CustomPPTXToDocument\n",
    "\n",
    "converter = CustomPPTXToDocument()\n",
    "results = converter.run(sources=[\"Documents/HCI_Lect.pptx\"])\n",
    "documents = results[\"documents\"]\n",
    "print(documents[0].content)\n",
    "\n",
    "# 'This is the text from the PPTX file.'"
   ]
  },
  {
   "cell_type": "markdown",
   "metadata": {},
   "source": [
    "### 4. Normal Txt Document Converter"
   ]
  },
  {
   "cell_type": "code",
   "execution_count": null,
   "metadata": {},
   "outputs": [],
   "source": [
    "from haystack.components.converters.txt import TextFileToDocument\n",
    "\n",
    "converter = TextFileToDocument()\n",
    "results = converter.run(sources=[\"sample.txt\"])\n",
    "documents = results[\"documents\"]\n",
    "print(documents[0].content)\n",
    "# 'This is the content from the txt file.'"
   ]
  }
 ],
 "metadata": {
  "interpreter": {
   "hash": "b817db4725139af68c3208be12cc80bbc8f116c1619bae0f5a04a89defeba75c"
  },
  "kernelspec": {
   "display_name": "Python 3.9.19 64-bit ('chatbot-env': conda)",
   "name": "python3"
  },
  "language_info": {
   "codemirror_mode": {
    "name": "ipython",
    "version": 3
   },
   "file_extension": ".py",
   "mimetype": "text/x-python",
   "name": "python",
   "nbconvert_exporter": "python",
   "pygments_lexer": "ipython3",
   "version": "3.9.19"
  },
  "orig_nbformat": 4
 },
 "nbformat": 4,
 "nbformat_minor": 2
}
