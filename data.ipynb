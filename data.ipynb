{
 "cells": [
  {
   "cell_type": "code",
   "execution_count": null,
   "metadata": {},
   "outputs": [],
   "source": [
    "from haystack.components.writers import DocumentWriter\n",
    "from haystack.components.converters import MarkdownToDocument, PyPDFToDocument, TextFileToDocument\n",
    "from haystack.components.preprocessors import DocumentSplitter, DocumentCleaner\n",
    "from haystack.components.routers import FileTypeRouter\n",
    "from haystack.components.joiners import DocumentJoiner\n",
    "from haystack.components.embedders import SentenceTransformersDocumentEmbedder\n",
    "from haystack import Pipeline, Document\n",
    "from haystack.document_stores.in_memory import InMemoryDocumentStore"
   ]
  },
  {
   "cell_type": "markdown",
   "metadata": {},
   "source": [
    "### Document Splitter"
   ]
  },
  {
   "cell_type": "code",
   "execution_count": 34,
   "metadata": {},
   "outputs": [
    {
     "data": {
      "text/plain": [
       "{'documents': [Document(id=b2c67a306f99f2d859c1bc0811c9ba449dd7288b7d3fcbc6591141b69fb2a341, content: 'Moonlight shimmered softly, ', meta: {'source_id': 'ea61b469f16c17b46ae667f395d7997c488dc7da96f6f4f9b4ac327f9a7b1abd', 'page_number': 1}),\n",
       "  Document(id=2b6b758e8432e27ee9ec0b15506e60506557cd77206e26b335f041f0c5462bb3, content: 'wolves howled nearby, ', meta: {'source_id': 'ea61b469f16c17b46ae667f395d7997c488dc7da96f6f4f9b4ac327f9a7b1abd', 'page_number': 1}),\n",
       "  Document(id=accbb0fd14e1ea1bb237a6d55e537e18938effe0a5dcb108b3c1f54d46d57f41, content: 'night enveloped everything.', meta: {'source_id': 'ea61b469f16c17b46ae667f395d7997c488dc7da96f6f4f9b4ac327f9a7b1abd', 'page_number': 1})]}"
      ]
     },
     "execution_count": 34,
     "metadata": {},
     "output_type": "execute_result"
    }
   ],
   "source": [
    "from haystack import Document\n",
    "from haystack.components.preprocessors import DocumentSplitter\n",
    "\n",
    "doc = Document(content=\"Moonlight shimmered softly, wolves howled nearby, night enveloped everything.\")\n",
    "\n",
    "splitter = DocumentSplitter(split_by=\"word\", split_length=3, split_overlap=0)\n",
    "result = splitter.run(documents=[doc])\n",
    "result"
   ]
  },
  {
   "cell_type": "markdown",
   "metadata": {},
   "source": [
    "### Document Cleaner"
   ]
  },
  {
   "cell_type": "code",
   "execution_count": 38,
   "metadata": {},
   "outputs": [
    {
     "data": {
      "text/plain": [
       "{'documents': [Document(id=cfa6114cbbb149e353c7c91bcf156714d7a030dd8e4a87e3ea3ae5e534a27eb3, content: 'This is a document to clean\\n\\n\\n')]}"
      ]
     },
     "execution_count": 38,
     "metadata": {},
     "output_type": "execute_result"
    }
   ],
   "source": [
    "from haystack import Document\n",
    "from haystack.components.preprocessors import DocumentCleaner\n",
    "\n",
    "doc = Document(content=\"This   is  a  document  to  clean\\\\n\\\\n\\\\nsubstring to remove\")\n",
    "\n",
    "cleaner = DocumentCleaner(remove_substrings = [\"substring to remove\"])\n",
    "result = cleaner.run(documents=[doc])\n",
    "\n",
    "#assert result[\"documents\"][0].content == \"This is a document to clean \"\n",
    "result"
   ]
  },
  {
   "cell_type": "code",
   "execution_count": null,
   "metadata": {},
   "outputs": [],
   "source": []
  },
  {
   "cell_type": "markdown",
   "metadata": {},
   "source": [
    "### 1. Word Document Converter"
   ]
  },
  {
   "cell_type": "code",
   "execution_count": null,
   "metadata": {},
   "outputs": [],
   "source": [
    "from haystack.components.converters.docx import DOCXToDocument\n",
    "\n",
    "converter = DOCXToDocument()\n",
    "results = converter.run(sources=[\"sample.docx\"], meta={\"date_added\": datetime.now().isoformat()})\n",
    "documents = results[\"documents\"]\n",
    "print(documents[0].content)\n",
    "# 'This is a text from the DOCX file.'"
   ]
  },
  {
   "cell_type": "markdown",
   "metadata": {},
   "source": [
    "### 2. PDF Document Converter"
   ]
  },
  {
   "cell_type": "code",
   "execution_count": null,
   "metadata": {},
   "outputs": [],
   "source": [
    "from haystack.components.converters.pdfminer import PDFMinerToDocument\n",
    "\n",
    "converter = PDFMinerToDocument()\n",
    "results = converter.run(sources=[\"sample.pdf\"], meta={\"date_added\": datetime.now().isoformat()})\n",
    "documents = results[\"documents\"]\n",
    "print(documents[0].content)\n",
    "# 'This is a text from the PDF file.'"
   ]
  },
  {
   "cell_type": "code",
   "execution_count": null,
   "metadata": {},
   "outputs": [],
   "source": [
    "from haystack.components.converters.pypdf import PyPDFToDocument\n",
    "\n",
    "converter = PyPDFToDocument()\n",
    "results = converter.run(sources=[\"sample.pdf\"], meta={\"date_added\": datetime.now().isoformat()})\n",
    "documents = results[\"documents\"]\n",
    "print(documents[0].content)\n",
    "# 'This is a text from the PDF file."
   ]
  },
  {
   "cell_type": "markdown",
   "metadata": {},
   "source": [
    "### 3. PPT Document Converter"
   ]
  },
  {
   "cell_type": "code",
   "execution_count": null,
   "metadata": {},
   "outputs": [],
   "source": [
    "from haystack.components.converters.pptx import PPTXToDocument\n",
    "\n",
    "converter = PPTXToDocument()\n",
    "results = converter.run(sources=[\"sample.pptx\"], meta={\"date_added\": datetime.now().isoformat()})\n",
    "documents = results[\"documents\"]\n",
    "print(documents[0].content)\n",
    "\n",
    "# 'This is the text from the PPTX file.'"
   ]
  },
  {
   "cell_type": "markdown",
   "metadata": {},
   "source": [
    "### 4. Normal Txt Document Converter"
   ]
  },
  {
   "cell_type": "code",
   "execution_count": null,
   "metadata": {},
   "outputs": [],
   "source": [
    "from haystack.components.converters.txt import TextFileToDocument\n",
    "\n",
    "converter = TextFileToDocument()\n",
    "results = converter.run(sources=[\"sample.txt\"])\n",
    "documents = results[\"documents\"]\n",
    "print(documents[0].content)\n",
    "# 'This is the content from the txt file.'"
   ]
  }
 ],
 "metadata": {
  "interpreter": {
   "hash": "b817db4725139af68c3208be12cc80bbc8f116c1619bae0f5a04a89defeba75c"
  },
  "kernelspec": {
   "display_name": "Python 3.9.19 64-bit ('chatbot-env': conda)",
   "name": "python3"
  },
  "language_info": {
   "codemirror_mode": {
    "name": "ipython",
    "version": 3
   },
   "file_extension": ".py",
   "mimetype": "text/x-python",
   "name": "python",
   "nbconvert_exporter": "python",
   "pygments_lexer": "ipython3",
   "version": "3.9.19"
  },
  "orig_nbformat": 4
 },
 "nbformat": 4,
 "nbformat_minor": 2
}
